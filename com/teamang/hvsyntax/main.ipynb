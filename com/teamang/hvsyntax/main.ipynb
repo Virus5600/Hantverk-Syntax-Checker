{
 "cells": [
  {
   "cell_type": "markdown",
   "metadata": {},
   "source": [
    "# Test Ground\n",
    "\n",
    "This notebook is a test ground for the Parser for the ProgLang subject's final project.\n",
    "\n",
    "As of the current, the code is being done by following the steps in [this link](https://medium.com/@marcelogdeandrade/writing-your-own-programming-language-and-compiler-with-python-a468970ae6df), allowing the initial lexer to be created."
   ]
  },
  {
   "cell_type": "markdown",
   "metadata": {},
   "source": [
    "# Import Definitions\n",
    "\n",
    "Define all imports here. Don't put it anywhere else to keep the code base clean."
   ]
  },
  {
   "cell_type": "code",
   "execution_count": 1,
   "metadata": {},
   "outputs": [],
   "source": [
    "from rply import ParserGenerator, LexerGenerator\n",
    "import re"
   ]
  },
  {
   "cell_type": "markdown",
   "metadata": {},
   "source": [
    "# Variable Definitions\n",
    "\n",
    "Defines all needed variables under this section."
   ]
  },
  {
   "cell_type": "code",
   "execution_count": 8,
   "metadata": {},
   "outputs": [],
   "source": [
    "TOKENS = {\n",
    "\t# COMMENTS\n",
    "\t\"singleLineComment\": r\"\\#\",\n",
    "\t\"multiLineCommentStart\": r\"\\#--\",\n",
    "\t\"multiLineCommentEnd\": r\"--\\#\",\n",
    "\n",
    "\t# ACCESS MODIFIERS\n",
    "\t\"public\": r\"shared\",\n",
    "\t\"private\": r\"self\",\n",
    "\t\"protected\": r\"internal\",\n",
    "\t\"default\": r\"grouped\",\n",
    "\t\"static\": r\"static\",\n",
    "\n",
    "\t# DATA TYPES\n",
    "\t\"string\": r\"str\",\n",
    "\t\"integer\": r\"int\",\n",
    "\t\"float\": r\"flt\",\n",
    "\t\"double\": r\"dbl\",\n",
    "\t\"boolean\": r\"bol\",\n",
    "\n",
    "\t# OPERATORS\n",
    "\t\"addition\": r\"\\+\",\n",
    "\t\"subtraction\": r\"-\",\n",
    "\t\"multiplication\": r\"\\*\",\n",
    "\t\"division\": r\"/\",\n",
    "\t\"modulo\": r\"%\",\n",
    "\t\"increment\": r\"\\+\\+\",\n",
    "\t\"decrement\": r\"--\",\n",
    "\t\"assignment\": r\"=\",\n",
    "\t\"additionAssignment\": r\"\\+=\",\n",
    "\t\"subtractionAssignment\": r\"-=\",\n",
    "\t\"multiplicationAssignment\": r\"\\*=\",\n",
    "\t\"divisionAssignment\": r\"/=\",\n",
    "\t\"moduloAssignment\": r\"%=\",\n",
    "\t\"not\": r\"!\",\n",
    "\n",
    "\t# COMPARISON OPERATORS\n",
    "\t\"equals\": r\"==\",\n",
    "\t\"notEquals\": r\"!=\",\n",
    "\t\"lessThan\": r\"<\",\n",
    "\t\"greaterThan\": r\">\",\n",
    "\t\"lessThanOrEqual\": r\"<=\",\n",
    "\t\"greaterThanOrEqual\": r\">=\",\n",
    "\t\"strictEquals\": r\"===\",\n",
    "\t\"strictNotEquals\": r\"!==\",\n",
    "\t\"and\": r\"&&\",\n",
    "\t\"or\": r\"\\|\\|\",\n",
    "\n",
    "\t# KEYWORDS\n",
    "\t## CONDITIONAL ##\n",
    "\t\"if\": r\"check\",\n",
    "\t\"else\": r\"otherwise\",\n",
    "\n",
    "\t## LOOPS ##\n",
    "\t\"for\": r\"from\",\n",
    "\t\"while\": r\"loop\",\n",
    "\n",
    "\t## SCOPING ##\n",
    "\t\"import\": r\"use\",\n",
    "\t\"class\": r\"template\",\n",
    "\t\"interface\": r\"modded\",\n",
    "\t\"function\": r\"fn\",\n",
    "\t\"extends\": r\"ext\",\n",
    "\t\"implements\": r\"mod\",\n",
    "\t\"return\": r\"return\",\n",
    "\t\"break\": r\"stop\",\n",
    "\t\"this\": r\"my\",\n",
    "\t\"super\": r\"parent\",\n",
    "\t\"new\": r\"new\",\n",
    "\n",
    "\t## DATA STRUCTURES ##\n",
    "\t\"null\": r\"null\",\n",
    "\t\"true\": r\"true\",\n",
    "\t\"false\": r\"false\",\n",
    "\t\"void\": r\"void\",\n",
    "\t\"array\": r\"arr\",\n",
    "\t\"dictionary\": r\"map\",\n",
    "\t\"number\": r\"\\d+\",\n",
    "\t\"string\": r\"[A-z\\s\\!\\#\\$\\%\\&\\(\\)\\*\\+\\,\\-\\.\\:;\\<\\=\\>\\?\\@\\[\\]\\^\\_\\`\\{\\}\\|\\~/\\\\]+\",\n",
    "\t\"identifier\": r\"[A-z][A-z0-9_]*\",\n",
    "\t\"newline\": r\"\\n\",\n",
    "\t\"whitespace\": r\"\\s+\",\n",
    "\t\"semicolon\": r\";\",\n",
    "\t\"colon\": r\":\",\n",
    "\t\"comma\": r\",\",\n",
    "\t\"period\": r\"\\.\",\n",
    "\t\"leftParen\": r\"\\(\",\n",
    "\t\"rightParen\": r\"\\)\",\n",
    "\t\"leftCurly\": r\"{\",\n",
    "\t\"rightCurly\": r\"}\",\n",
    "\t\"leftSquare\": r\"\\[\",\n",
    "\t\"rightSquare\": r\"\\]\",\n",
    "\t\"doubleQuote\": r\"\\\"\",\n",
    "\t\"singleQuote\": r\"\\'\",\n",
    "\t\"backTick\": r\"`\",\n",
    "\t\"annotationIdent\": r\"::\",\n",
    "}"
   ]
  },
  {
   "cell_type": "markdown",
   "metadata": {},
   "source": [
    "# Function Definitions\n",
    "\n",
    "Defines all function under this section."
   ]
  },
  {
   "cell_type": "code",
   "execution_count": 9,
   "metadata": {},
   "outputs": [],
   "source": [
    "class Lexer():\n",
    "\tdef __init__(self):\n",
    "\t\tself.lexer = LexerGenerator()\n",
    "\t\t\n",
    "\tdef addTokens(self):\n",
    "\t\tfor tokenKey in TOKENS:\n",
    "\t\t\tself.lexer.add(tokenKey, TOKENS[tokenKey])\n",
    "\n",
    "\t\tself.lexer.ignore(TOKENS[\"whitespace\"])\n",
    "\n",
    "\tdef getLexer(self):\n",
    "\t\tself.addTokens()\n",
    "\t\treturn self.lexer.build()"
   ]
  }
 ],
 "metadata": {
  "kernelspec": {
   "display_name": "com222",
   "language": "python",
   "name": "python3"
  },
  "language_info": {
   "codemirror_mode": {
    "name": "ipython",
    "version": 3
   },
   "file_extension": ".py",
   "mimetype": "text/x-python",
   "name": "python",
   "nbconvert_exporter": "python",
   "pygments_lexer": "ipython3",
   "version": "3.12.4"
  }
 },
 "nbformat": 4,
 "nbformat_minor": 2
}
